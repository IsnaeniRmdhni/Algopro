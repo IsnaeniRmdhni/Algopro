{
  "nbformat": 4,
  "nbformat_minor": 0,
  "metadata": {
    "colab": {
      "name": "015_Isnaeni Ramadhani_Tugas Algoritma dn Pemograman ",
      "provenance": [],
      "authorship_tag": "ABX9TyO++lXDT6W95KS6uWt8K5TG",
      "include_colab_link": true
    },
    "kernelspec": {
      "name": "python3",
      "display_name": "Python 3"
    },
    "language_info": {
      "name": "python"
    }
  },
  "cells": [
    {
      "cell_type": "markdown",
      "metadata": {
        "id": "view-in-github",
        "colab_type": "text"
      },
      "source": [
        "<a href=\"https://colab.research.google.com/github/IsnaeniRmdhni/Algopro/blob/main/015_Isnaeni_Ramadhani_Tugas_Algoritma_dn_Pemograman.ipynb\" target=\"_parent\"><img src=\"https://colab.research.google.com/assets/colab-badge.svg\" alt=\"Open In Colab\"/></a>"
      ]
    },
    {
      "cell_type": "markdown",
      "source": [
        "**Penjumlahan Matriks**"
      ],
      "metadata": {
        "id": "8cwWOP6qhYt_"
      }
    },
    {
      "cell_type": "code",
      "source": [
        "#Penjumlahan Matriks \n",
        "MatriksA = [\n",
        "    [8, 2],\n",
        "    [4, 6],\n",
        "]\n",
        "MatriksB = [\n",
        "    [3, 5],\n",
        "    [1, 3],\n",
        "]\n",
        "\n",
        "HasilMatriks = []            \n",
        "\n",
        "for i in range(0, len(MatriksA)):\n",
        "    hasiljumlah = 0\n",
        "    row =[]\n",
        "    for j in range(0, len(MatriksA[0])):\n",
        "        hasiljumlah = MatriksA[i][j] + MatriksB[i][j]\n",
        "        row.append(hasiljumlah)      \n",
        "    HasilMatriks.append(row)\n",
        "\n",
        "print('Hasil dari penjumlahan matriks A dan B adalah', HasilMatriks)"
      ],
      "metadata": {
        "id": "micyY9kVzS0o",
        "colab": {
          "base_uri": "https://localhost:8080/"
        },
        "outputId": "047c1734-7cd8-416d-ab7b-75d40ac8af9a"
      },
      "execution_count": null,
      "outputs": [
        {
          "output_type": "stream",
          "name": "stdout",
          "text": [
            "Hasil dari penjumlahan matriks A dan B adalah [[11, 7], [5, 9]]\n"
          ]
        }
      ]
    },
    {
      "cell_type": "markdown",
      "source": [
        "**No.1 Buatlah program untuk menghitung total pembelian N buah barang dengan harga dan jumlah tertentu**"
      ],
      "metadata": {
        "id": "5nqQgDGYhjEI"
      }
    },
    {
      "cell_type": "code",
      "execution_count": null,
      "metadata": {
        "colab": {
          "base_uri": "https://localhost:8080/"
        },
        "id": "trcF5PFYYwLj",
        "outputId": "96abab81-a9c1-4247-f78c-e58223e74870"
      },
      "outputs": [
        {
          "output_type": "stream",
          "name": "stdout",
          "text": [
            "Nama Barang= T-Shirt \n",
            "Harga Barang= Rp 35000\n",
            "Jumlah Barang= 5\n",
            "Harga Barang Total adalah Rp 175000\n"
          ]
        }
      ],
      "source": [
        "#No.1 : Buatlah program untuk menghitung total pembelian N buah barang dengan harga dan jumlah tertentu\n",
        "NamaBarang =input('Nama Barang= ')\n",
        "HargaBarangPersatuan =int(input('Harga Barang= Rp '))\n",
        "JumlahBarang =int(input('Jumlah Barang= '))\n",
        "\n",
        "HargaBarangTotal = JumlahBarang * HargaBarangPersatuan\n",
        "print('Harga Barang Total adalah Rp %d' %(HargaBarangTotal))"
      ]
    },
    {
      "cell_type": "markdown",
      "source": [
        "**No.2 Buatlah program untuk menghitung banyaknya bilangan genap ataupun bilangan ganjil dari N buah bilangan yang diinput secara acak**"
      ],
      "metadata": {
        "id": "8xisJkoZht0l"
      }
    },
    {
      "cell_type": "code",
      "source": [
        "#No.2 : Buatlah program untuk menghitung banyaknya bilangan genap ataupun bilangan ganjil dari N buah bilangan yang diinput secara acak\n",
        "nilai_awal = int(input(' nilai awal: '))\n",
        "nilai_akhir = int(input(' nilai akhir: '))\n",
        "print('Masukkan nilai awal dan nilai akhir')\n",
        "\n",
        "print(\"\"\"\\nTampilkan bilangan\n",
        " 1. Ganjil\n",
        " 2. Genap\"\"\")\n",
        "\n",
        "pilihan = int(input('Pilihan: '))\n",
        "\n",
        "count=0\n",
        "\n",
        "if pilihan not in [1, 2]:\n",
        "  print('Pilihan salah')\n",
        "else:\n",
        "  for x in range(nilai_awal, nilai_akhir + 1):\n",
        "    if pilihan == 1 and x % 2 == 1:\n",
        "      print(x, end=' ')  \n",
        "      count=count+1 \n",
        "    elif pilihan == 2 and x % 2 == 0:\n",
        "      print(x, end=' ')\n",
        "      count=count+1\n",
        "  else:\n",
        "    print('')\n",
        "\n",
        "print('Ada Sebanyak %d Bilangan' %(count))\n",
        "\n"
      ],
      "metadata": {
        "colab": {
          "base_uri": "https://localhost:8080/"
        },
        "id": "c3M4VdtYKitc",
        "outputId": "2dd44c2a-ab9e-46a3-b5d6-d5e53f3799c9"
      },
      "execution_count": null,
      "outputs": [
        {
          "output_type": "stream",
          "name": "stdout",
          "text": [
            " nilai awal: 5\n",
            " nilai akhir: 30\n",
            "Masukkan nilai awal dan nilai akhir\n",
            "\n",
            "Tampilkan bilangan\n",
            " 1. Ganjil\n",
            " 2. Genap\n",
            "Pilihan: 2\n",
            "6 8 10 12 14 16 18 20 22 24 26 28 30 \n",
            "Ada Sebanyak 13 Bilangan\n"
          ]
        }
      ]
    },
    {
      "cell_type": "markdown",
      "source": [
        "**No.3 Buatlah program untuk menampilkan bilangan kelipatan 3 diantara bilangan tertentu**"
      ],
      "metadata": {
        "id": "keDaXj_Rh1QF"
      }
    },
    {
      "cell_type": "code",
      "source": [
        "#No.3 : Buatlah program untuk menampilkan bilangan kelipatan 3 diantara bilangan tertentu\n",
        "awal=int(input('Set Nilai Awal = '))\n",
        "akhir=int(input('Set Nilai Akhir = '))\n",
        "\n",
        "count=0\n",
        "\n",
        "print('Bilangan antara %d dan %d' %(awal,akhir))\n",
        "\n",
        "for i in range (awal,akhir+1) :\n",
        "  if i%3==0:\n",
        "    print (i)\n",
        "    count=count+1\n",
        "  \n",
        "print('Ada sebanyak %d bilangan' %count)\n",
        "\n"
      ],
      "metadata": {
        "colab": {
          "base_uri": "https://localhost:8080/"
        },
        "id": "o6hacVUxe4zN",
        "outputId": "80d06944-47a6-4704-f1a3-1aa9aa79bc2f"
      },
      "execution_count": null,
      "outputs": [
        {
          "output_type": "stream",
          "name": "stdout",
          "text": [
            "Set Nilai Awal = 4\n",
            "Set Nilai Akhir = 10\n",
            "Bilangan antara 4 dan 10\n",
            "6\n",
            "9\n",
            "Ada sebanyak 2 bilangan\n"
          ]
        }
      ]
    },
    {
      "cell_type": "markdown",
      "source": [
        "**No.4 Buatlah program untuk menampilkan bentuk bilangan seperti berikut ini**"
      ],
      "metadata": {
        "id": "RZVBROjEh6wv"
      }
    },
    {
      "cell_type": "markdown",
      "source": [
        ""
      ],
      "metadata": {
        "id": "RxaQTW3zh6oU"
      }
    },
    {
      "cell_type": "code",
      "source": [
        "#No.4 : Buatlah program untuk menampilkan bentuk bilangan seperti berikut ini:\n",
        "Bilangan = int(input('Masukkan Bilangan: '))\n",
        "for row in range(1, Bilangan+1):\n",
        "    for column in range(1, row + 1):\n",
        "        print(column, end=' ')\n",
        "    print(\"\")\n"
      ],
      "metadata": {
        "colab": {
          "base_uri": "https://localhost:8080/"
        },
        "id": "uIU7JdwviWpZ",
        "outputId": "c2cb5dd2-0ef1-42d3-adb3-8662d1b4b1a2"
      },
      "execution_count": null,
      "outputs": [
        {
          "output_type": "stream",
          "name": "stdout",
          "text": [
            "Masukkan Bilangan: 10\n",
            "1 \n",
            "1 2 \n",
            "1 2 3 \n",
            "1 2 3 4 \n",
            "1 2 3 4 5 \n",
            "1 2 3 4 5 6 \n",
            "1 2 3 4 5 6 7 \n",
            "1 2 3 4 5 6 7 8 \n",
            "1 2 3 4 5 6 7 8 9 \n",
            "1 2 3 4 5 6 7 8 9 10 \n"
          ]
        }
      ]
    },
    {
      "cell_type": "markdown",
      "source": [
        "**No.5  Buatlah program untuk menghitung dan menampilkan bentuk berikut ini** "
      ],
      "metadata": {
        "id": "IePmT7zJiDeS"
      }
    },
    {
      "cell_type": "code",
      "source": [
        "import prettytable as prettytable\n",
        "from prettytable import PrettyTable\n",
        "\n",
        "# Tentukan nama kolom apa saja ketika inisialisasi tabel\n",
        "tabelNilai = PrettyTable([\"No.\", \"Nama Mhs\", \"N.Tugas\", \"N.Kuis\",\"N.UTS\",\"N.UAS\",\"Nilai Akhir\"])\n",
        "\n",
        "# Tambahkan data baris\n",
        "tabelNilai.add_row([\"1\",\"   \",\"   \",\"    \",\"    \",\"    \",\"   \"])\n",
        "tabelNilai.add_row([\"2\",\"   \",\"   \",\"    \",\"    \",\"    \",\"   \"])\n",
        "tabelNilai.add_row([\"3\",\"   \",\"   \",\"    \",\"    \",\"    \",\"   \"])\n",
        "tabelNilai.add_row([\"...\",\"   \",\"   \",\"    \",\"    \",\"    \",\"   \"])\n",
        "tabelNilai.add_row([\"N\",\"   \",\"   \",\"    \",\"    \",\"    \",\"   \"])\n",
        "\n",
        "# Mencetak Tabel Nilai\n",
        "print(tabelNilai)\n",
        "#Menghapus data baris pada tabel\n",
        "#Kode berikut ini akan menghapus baris pertama dari tabel, yaitu baris mengikuti pengindeksan standar mulai dari indeks 0.\n",
        "\n",
        "tabelNilai.del_row(0)\n",
        "#Menghapus seluruh data pada tabel Kode dibawah ini akan menghapus seluruh data tabel dengan hanya menyisakan nama kolom saja.\n",
        "\n",
        "tabelNilai.clear_rows()\n"
      ],
      "metadata": {
        "colab": {
          "base_uri": "https://localhost:8080/"
        },
        "id": "_luEAv-6IThB",
        "outputId": "5799d37e-5002-465c-979b-a40681e87cfc"
      },
      "execution_count": null,
      "outputs": [
        {
          "output_type": "stream",
          "name": "stdout",
          "text": [
            "+-----+----------+---------+--------+-------+-------+-------------+\n",
            "| No. | Nama Mhs | N.Tugas | N.Kuis | N.UTS | N.UAS | Nilai Akhir |\n",
            "+-----+----------+---------+--------+-------+-------+-------------+\n",
            "|  1  |          |         |        |       |       |             |\n",
            "|  2  |          |         |        |       |       |             |\n",
            "|  3  |          |         |        |       |       |             |\n",
            "| ... |          |         |        |       |       |             |\n",
            "|  N  |          |         |        |       |       |             |\n",
            "+-----+----------+---------+--------+-------+-------+-------------+\n"
          ]
        }
      ]
    }
  ]
}